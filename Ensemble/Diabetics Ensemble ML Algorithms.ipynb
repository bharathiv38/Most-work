{
 "cells": [
  {
   "cell_type": "code",
   "execution_count": 1,
   "id": "397bd0ec",
   "metadata": {},
   "outputs": [],
   "source": [
    "#lets load libraries\n",
    "import pandas as pd\n",
    "import numpy as np\n",
    "import seaborn as sns\n",
    "import matplotlib.pyplot as plt\n",
    "%matplotlib inline\n",
    "import warnings\n",
    "warnings.filterwarnings('ignore')"
   ]
  },
  {
   "cell_type": "code",
   "execution_count": 2,
   "id": "1f2800d1",
   "metadata": {},
   "outputs": [
    {
     "data": {
      "text/html": [
       "<div>\n",
       "<style scoped>\n",
       "    .dataframe tbody tr th:only-of-type {\n",
       "        vertical-align: middle;\n",
       "    }\n",
       "\n",
       "    .dataframe tbody tr th {\n",
       "        vertical-align: top;\n",
       "    }\n",
       "\n",
       "    .dataframe thead th {\n",
       "        text-align: right;\n",
       "    }\n",
       "</style>\n",
       "<table border=\"1\" class=\"dataframe\">\n",
       "  <thead>\n",
       "    <tr style=\"text-align: right;\">\n",
       "      <th></th>\n",
       "      <th>Pregnancies</th>\n",
       "      <th>Glucose</th>\n",
       "      <th>BloodPressure</th>\n",
       "      <th>SkinThickness</th>\n",
       "      <th>Insulin</th>\n",
       "      <th>BMI</th>\n",
       "      <th>DiabetesPedigreeFunction</th>\n",
       "      <th>Age</th>\n",
       "      <th>Outcome</th>\n",
       "    </tr>\n",
       "  </thead>\n",
       "  <tbody>\n",
       "    <tr>\n",
       "      <th>0</th>\n",
       "      <td>6</td>\n",
       "      <td>148</td>\n",
       "      <td>72</td>\n",
       "      <td>35</td>\n",
       "      <td>0</td>\n",
       "      <td>33.6</td>\n",
       "      <td>0.627</td>\n",
       "      <td>50</td>\n",
       "      <td>1</td>\n",
       "    </tr>\n",
       "    <tr>\n",
       "      <th>1</th>\n",
       "      <td>1</td>\n",
       "      <td>85</td>\n",
       "      <td>66</td>\n",
       "      <td>29</td>\n",
       "      <td>0</td>\n",
       "      <td>26.6</td>\n",
       "      <td>0.351</td>\n",
       "      <td>31</td>\n",
       "      <td>0</td>\n",
       "    </tr>\n",
       "    <tr>\n",
       "      <th>2</th>\n",
       "      <td>8</td>\n",
       "      <td>183</td>\n",
       "      <td>64</td>\n",
       "      <td>0</td>\n",
       "      <td>0</td>\n",
       "      <td>23.3</td>\n",
       "      <td>0.672</td>\n",
       "      <td>32</td>\n",
       "      <td>1</td>\n",
       "    </tr>\n",
       "    <tr>\n",
       "      <th>3</th>\n",
       "      <td>1</td>\n",
       "      <td>89</td>\n",
       "      <td>66</td>\n",
       "      <td>23</td>\n",
       "      <td>94</td>\n",
       "      <td>28.1</td>\n",
       "      <td>0.167</td>\n",
       "      <td>21</td>\n",
       "      <td>0</td>\n",
       "    </tr>\n",
       "    <tr>\n",
       "      <th>4</th>\n",
       "      <td>0</td>\n",
       "      <td>137</td>\n",
       "      <td>40</td>\n",
       "      <td>35</td>\n",
       "      <td>168</td>\n",
       "      <td>43.1</td>\n",
       "      <td>2.288</td>\n",
       "      <td>33</td>\n",
       "      <td>1</td>\n",
       "    </tr>\n",
       "  </tbody>\n",
       "</table>\n",
       "</div>"
      ],
      "text/plain": [
       "   Pregnancies  Glucose  BloodPressure  SkinThickness  Insulin   BMI  \\\n",
       "0            6      148             72             35        0  33.6   \n",
       "1            1       85             66             29        0  26.6   \n",
       "2            8      183             64              0        0  23.3   \n",
       "3            1       89             66             23       94  28.1   \n",
       "4            0      137             40             35      168  43.1   \n",
       "\n",
       "   DiabetesPedigreeFunction  Age  Outcome  \n",
       "0                     0.627   50        1  \n",
       "1                     0.351   31        0  \n",
       "2                     0.672   32        1  \n",
       "3                     0.167   21        0  \n",
       "4                     2.288   33        1  "
      ]
     },
     "execution_count": 2,
     "metadata": {},
     "output_type": "execute_result"
    }
   ],
   "source": [
    "#loading dataset to pandas dataframe\n",
    "df = pd.read_csv(r\"C:\\Users\\User\\Downloads\\diabetes (1).csv\")\n",
    "df.head()"
   ]
  },
  {
   "cell_type": "code",
   "execution_count": 3,
   "id": "e646166f",
   "metadata": {},
   "outputs": [
    {
     "data": {
      "text/html": [
       "<div>\n",
       "<style scoped>\n",
       "    .dataframe tbody tr th:only-of-type {\n",
       "        vertical-align: middle;\n",
       "    }\n",
       "\n",
       "    .dataframe tbody tr th {\n",
       "        vertical-align: top;\n",
       "    }\n",
       "\n",
       "    .dataframe thead th {\n",
       "        text-align: right;\n",
       "    }\n",
       "</style>\n",
       "<table border=\"1\" class=\"dataframe\">\n",
       "  <thead>\n",
       "    <tr style=\"text-align: right;\">\n",
       "      <th></th>\n",
       "      <th>Pregnancies</th>\n",
       "      <th>Glucose</th>\n",
       "      <th>BloodPressure</th>\n",
       "      <th>SkinThickness</th>\n",
       "      <th>Insulin</th>\n",
       "      <th>BMI</th>\n",
       "      <th>DiabetesPedigreeFunction</th>\n",
       "      <th>Age</th>\n",
       "      <th>Outcome</th>\n",
       "    </tr>\n",
       "  </thead>\n",
       "  <tbody>\n",
       "    <tr>\n",
       "      <th>763</th>\n",
       "      <td>10</td>\n",
       "      <td>101</td>\n",
       "      <td>76</td>\n",
       "      <td>48</td>\n",
       "      <td>180</td>\n",
       "      <td>32.9</td>\n",
       "      <td>0.171</td>\n",
       "      <td>63</td>\n",
       "      <td>0</td>\n",
       "    </tr>\n",
       "    <tr>\n",
       "      <th>764</th>\n",
       "      <td>2</td>\n",
       "      <td>122</td>\n",
       "      <td>70</td>\n",
       "      <td>27</td>\n",
       "      <td>0</td>\n",
       "      <td>36.8</td>\n",
       "      <td>0.340</td>\n",
       "      <td>27</td>\n",
       "      <td>0</td>\n",
       "    </tr>\n",
       "    <tr>\n",
       "      <th>765</th>\n",
       "      <td>5</td>\n",
       "      <td>121</td>\n",
       "      <td>72</td>\n",
       "      <td>23</td>\n",
       "      <td>112</td>\n",
       "      <td>26.2</td>\n",
       "      <td>0.245</td>\n",
       "      <td>30</td>\n",
       "      <td>0</td>\n",
       "    </tr>\n",
       "    <tr>\n",
       "      <th>766</th>\n",
       "      <td>1</td>\n",
       "      <td>126</td>\n",
       "      <td>60</td>\n",
       "      <td>0</td>\n",
       "      <td>0</td>\n",
       "      <td>30.1</td>\n",
       "      <td>0.349</td>\n",
       "      <td>47</td>\n",
       "      <td>1</td>\n",
       "    </tr>\n",
       "    <tr>\n",
       "      <th>767</th>\n",
       "      <td>1</td>\n",
       "      <td>93</td>\n",
       "      <td>70</td>\n",
       "      <td>31</td>\n",
       "      <td>0</td>\n",
       "      <td>30.4</td>\n",
       "      <td>0.315</td>\n",
       "      <td>23</td>\n",
       "      <td>0</td>\n",
       "    </tr>\n",
       "  </tbody>\n",
       "</table>\n",
       "</div>"
      ],
      "text/plain": [
       "     Pregnancies  Glucose  BloodPressure  SkinThickness  Insulin   BMI  \\\n",
       "763           10      101             76             48      180  32.9   \n",
       "764            2      122             70             27        0  36.8   \n",
       "765            5      121             72             23      112  26.2   \n",
       "766            1      126             60              0        0  30.1   \n",
       "767            1       93             70             31        0  30.4   \n",
       "\n",
       "     DiabetesPedigreeFunction  Age  Outcome  \n",
       "763                     0.171   63        0  \n",
       "764                     0.340   27        0  \n",
       "765                     0.245   30        0  \n",
       "766                     0.349   47        1  \n",
       "767                     0.315   23        0  "
      ]
     },
     "execution_count": 3,
     "metadata": {},
     "output_type": "execute_result"
    }
   ],
   "source": [
    "df.tail()"
   ]
  },
  {
   "cell_type": "code",
   "execution_count": 4,
   "id": "87380c4a",
   "metadata": {},
   "outputs": [
    {
     "name": "stdout",
     "output_type": "stream",
     "text": [
      "<class 'pandas.core.frame.DataFrame'>\n",
      "RangeIndex: 768 entries, 0 to 767\n",
      "Data columns (total 9 columns):\n",
      " #   Column                    Non-Null Count  Dtype  \n",
      "---  ------                    --------------  -----  \n",
      " 0   Pregnancies               768 non-null    int64  \n",
      " 1   Glucose                   768 non-null    int64  \n",
      " 2   BloodPressure             768 non-null    int64  \n",
      " 3   SkinThickness             768 non-null    int64  \n",
      " 4   Insulin                   768 non-null    int64  \n",
      " 5   BMI                       768 non-null    float64\n",
      " 6   DiabetesPedigreeFunction  768 non-null    float64\n",
      " 7   Age                       768 non-null    int64  \n",
      " 8   Outcome                   768 non-null    int64  \n",
      "dtypes: float64(2), int64(7)\n",
      "memory usage: 54.1 KB\n"
     ]
    }
   ],
   "source": [
    "df.info()"
   ]
  },
  {
   "cell_type": "code",
   "execution_count": 7,
   "id": "8735d4af",
   "metadata": {},
   "outputs": [
    {
     "data": {
      "text/html": [
       "<div>\n",
       "<style scoped>\n",
       "    .dataframe tbody tr th:only-of-type {\n",
       "        vertical-align: middle;\n",
       "    }\n",
       "\n",
       "    .dataframe tbody tr th {\n",
       "        vertical-align: top;\n",
       "    }\n",
       "\n",
       "    .dataframe thead th {\n",
       "        text-align: right;\n",
       "    }\n",
       "</style>\n",
       "<table border=\"1\" class=\"dataframe\">\n",
       "  <thead>\n",
       "    <tr style=\"text-align: right;\">\n",
       "      <th></th>\n",
       "      <th>Pregnancies</th>\n",
       "      <th>Glucose</th>\n",
       "      <th>BloodPressure</th>\n",
       "      <th>SkinThickness</th>\n",
       "      <th>Insulin</th>\n",
       "      <th>BMI</th>\n",
       "      <th>DiabetesPedigreeFunction</th>\n",
       "      <th>Age</th>\n",
       "      <th>Outcome</th>\n",
       "    </tr>\n",
       "  </thead>\n",
       "  <tbody>\n",
       "    <tr>\n",
       "      <th>count</th>\n",
       "      <td>768.00</td>\n",
       "      <td>768.00</td>\n",
       "      <td>768.00</td>\n",
       "      <td>768.00</td>\n",
       "      <td>768.00</td>\n",
       "      <td>768.00</td>\n",
       "      <td>768.00</td>\n",
       "      <td>768.00</td>\n",
       "      <td>768.00</td>\n",
       "    </tr>\n",
       "    <tr>\n",
       "      <th>mean</th>\n",
       "      <td>3.85</td>\n",
       "      <td>120.89</td>\n",
       "      <td>69.11</td>\n",
       "      <td>20.54</td>\n",
       "      <td>79.80</td>\n",
       "      <td>31.99</td>\n",
       "      <td>0.47</td>\n",
       "      <td>33.24</td>\n",
       "      <td>0.35</td>\n",
       "    </tr>\n",
       "    <tr>\n",
       "      <th>std</th>\n",
       "      <td>3.37</td>\n",
       "      <td>31.97</td>\n",
       "      <td>19.36</td>\n",
       "      <td>15.95</td>\n",
       "      <td>115.24</td>\n",
       "      <td>7.88</td>\n",
       "      <td>0.33</td>\n",
       "      <td>11.76</td>\n",
       "      <td>0.48</td>\n",
       "    </tr>\n",
       "    <tr>\n",
       "      <th>min</th>\n",
       "      <td>0.00</td>\n",
       "      <td>0.00</td>\n",
       "      <td>0.00</td>\n",
       "      <td>0.00</td>\n",
       "      <td>0.00</td>\n",
       "      <td>0.00</td>\n",
       "      <td>0.08</td>\n",
       "      <td>21.00</td>\n",
       "      <td>0.00</td>\n",
       "    </tr>\n",
       "    <tr>\n",
       "      <th>25%</th>\n",
       "      <td>1.00</td>\n",
       "      <td>99.00</td>\n",
       "      <td>62.00</td>\n",
       "      <td>0.00</td>\n",
       "      <td>0.00</td>\n",
       "      <td>27.30</td>\n",
       "      <td>0.24</td>\n",
       "      <td>24.00</td>\n",
       "      <td>0.00</td>\n",
       "    </tr>\n",
       "    <tr>\n",
       "      <th>50%</th>\n",
       "      <td>3.00</td>\n",
       "      <td>117.00</td>\n",
       "      <td>72.00</td>\n",
       "      <td>23.00</td>\n",
       "      <td>30.50</td>\n",
       "      <td>32.00</td>\n",
       "      <td>0.37</td>\n",
       "      <td>29.00</td>\n",
       "      <td>0.00</td>\n",
       "    </tr>\n",
       "    <tr>\n",
       "      <th>75%</th>\n",
       "      <td>6.00</td>\n",
       "      <td>140.25</td>\n",
       "      <td>80.00</td>\n",
       "      <td>32.00</td>\n",
       "      <td>127.25</td>\n",
       "      <td>36.60</td>\n",
       "      <td>0.63</td>\n",
       "      <td>41.00</td>\n",
       "      <td>1.00</td>\n",
       "    </tr>\n",
       "    <tr>\n",
       "      <th>max</th>\n",
       "      <td>17.00</td>\n",
       "      <td>199.00</td>\n",
       "      <td>122.00</td>\n",
       "      <td>99.00</td>\n",
       "      <td>846.00</td>\n",
       "      <td>67.10</td>\n",
       "      <td>2.42</td>\n",
       "      <td>81.00</td>\n",
       "      <td>1.00</td>\n",
       "    </tr>\n",
       "  </tbody>\n",
       "</table>\n",
       "</div>"
      ],
      "text/plain": [
       "       Pregnancies  Glucose  BloodPressure  SkinThickness  Insulin    BMI  \\\n",
       "count       768.00   768.00         768.00         768.00   768.00 768.00   \n",
       "mean          3.85   120.89          69.11          20.54    79.80  31.99   \n",
       "std           3.37    31.97          19.36          15.95   115.24   7.88   \n",
       "min           0.00     0.00           0.00           0.00     0.00   0.00   \n",
       "25%           1.00    99.00          62.00           0.00     0.00  27.30   \n",
       "50%           3.00   117.00          72.00          23.00    30.50  32.00   \n",
       "75%           6.00   140.25          80.00          32.00   127.25  36.60   \n",
       "max          17.00   199.00         122.00          99.00   846.00  67.10   \n",
       "\n",
       "       DiabetesPedigreeFunction    Age  Outcome  \n",
       "count                    768.00 768.00   768.00  \n",
       "mean                       0.47  33.24     0.35  \n",
       "std                        0.33  11.76     0.48  \n",
       "min                        0.08  21.00     0.00  \n",
       "25%                        0.24  24.00     0.00  \n",
       "50%                        0.37  29.00     0.00  \n",
       "75%                        0.63  41.00     1.00  \n",
       "max                        2.42  81.00     1.00  "
      ]
     },
     "execution_count": 7,
     "metadata": {},
     "output_type": "execute_result"
    }
   ],
   "source": [
    "pd.set_option('display.float_format','{:.2f}'.format)\n",
    "df.describe()"
   ]
  },
  {
   "cell_type": "code",
   "execution_count": 6,
   "id": "72b76a0b",
   "metadata": {},
   "outputs": [
    {
     "data": {
      "text/plain": [
       "Pregnancies                 0\n",
       "Glucose                     0\n",
       "BloodPressure               0\n",
       "SkinThickness               0\n",
       "Insulin                     0\n",
       "BMI                         0\n",
       "DiabetesPedigreeFunction    0\n",
       "Age                         0\n",
       "Outcome                     0\n",
       "dtype: int64"
      ]
     },
     "execution_count": 6,
     "metadata": {},
     "output_type": "execute_result"
    }
   ],
   "source": [
    "#finding null values\n",
    "df.isnull().sum()"
   ]
  },
  {
   "cell_type": "code",
   "execution_count": 9,
   "id": "2b79bb92",
   "metadata": {},
   "outputs": [
    {
     "data": {
      "text/plain": [
       "Index(['Pregnancies', 'Glucose', 'BloodPressure', 'SkinThickness', 'Insulin',\n",
       "       'BMI', 'DiabetesPedigreeFunction', 'Age', 'Outcome'],\n",
       "      dtype='object')"
      ]
     },
     "execution_count": 9,
     "metadata": {},
     "output_type": "execute_result"
    }
   ],
   "source": [
    "df.columns"
   ]
  },
  {
   "cell_type": "code",
   "execution_count": 14,
   "id": "7110d291",
   "metadata": {},
   "outputs": [],
   "source": [
    "categorical_val =[]\n",
    "continuous_val=[]\n",
    "for column in df.columns:\n",
    "#print(\"=============================\")\n",
    "#print(f'{column}:{df[column].unique()}')\n",
    "    if len(df[column].unique()) <=10:\n",
    "        categorical_val.append(column)\n",
    "    else:\n",
    "        continuous_val.append(column)"
   ]
  },
  {
   "cell_type": "code",
   "execution_count": 16,
   "id": "c450b5ae",
   "metadata": {},
   "outputs": [
    {
     "name": "stdout",
     "output_type": "stream",
     "text": [
      "==========================\n",
      "Pregnancies==> Missing Zeros : 111\n",
      "==========================\n",
      "Pregnancies==> Missing Zeros : 5\n",
      "==========================\n",
      "Pregnancies==> Missing Zeros : 35\n",
      "==========================\n",
      "Pregnancies==> Missing Zeros : 227\n",
      "==========================\n",
      "Pregnancies==> Missing Zeros : 374\n",
      "==========================\n",
      "Pregnancies==> Missing Zeros : 11\n",
      "==========================\n",
      "Pregnancies==> Missing Zeros : 0\n",
      "==========================\n",
      "Pregnancies==> Missing Zeros : 0\n"
     ]
    }
   ],
   "source": [
    "feature_column=['Pregnancies', 'Glucose', 'BloodPressure', 'SkinThickness', 'Insulin',\n",
    "       'BMI', 'DiabetesPedigreeFunction', 'Age']\n",
    "for column in feature_column:\n",
    "    print(\"==========================\")\n",
    "    print(f\"{columns}==> Missing Zeros : {len(df.loc[df[column]==0])}\")\n",
    "   "
   ]
  },
  {
   "cell_type": "code",
   "execution_count": 19,
   "id": "913aea06",
   "metadata": {},
   "outputs": [],
   "source": [
    "from sklearn.impute import SimpleImputer\n",
    "\n",
    "fill_values=SimpleImputer(missing_values=0,strategy=\"mean\",copy=False)\n",
    "\n",
    "df[feature_column]=fill_values.fit_transform(df[feature_column])"
   ]
  },
  {
   "cell_type": "code",
   "execution_count": 20,
   "id": "c69aa258",
   "metadata": {},
   "outputs": [
    {
     "name": "stdout",
     "output_type": "stream",
     "text": [
      "================================================\n",
      "Pregnancies==>Missing Zeros : 0\n",
      "================================================\n",
      "Glucose==>Missing Zeros : 0\n",
      "================================================\n",
      "BloodPressure==>Missing Zeros : 0\n",
      "================================================\n",
      "SkinThickness==>Missing Zeros : 0\n",
      "================================================\n",
      "Insulin==>Missing Zeros : 0\n",
      "================================================\n",
      "BMI==>Missing Zeros : 0\n",
      "================================================\n",
      "DiabetesPedigreeFunction==>Missing Zeros : 0\n",
      "================================================\n",
      "Age==>Missing Zeros : 0\n"
     ]
    }
   ],
   "source": [
    "for column in feature_column:\n",
    "    print(\"================================================\")\n",
    "    print(f\"{column}==>Missing Zeros : {len(df.loc[df[column]==0])}\")"
   ]
  },
  {
   "cell_type": "code",
   "execution_count": 21,
   "id": "df3fbacb",
   "metadata": {},
   "outputs": [],
   "source": [
    "from sklearn.model_selection import train_test_split\n",
    "\n",
    "X = df[feature_column]\n",
    "Y = df.Outcome\n",
    "\n",
    "X_train,X_test,Y_train,Y_test = train_test_split(X,Y,test_size=0.3,random_state=42)"
   ]
  },
  {
   "cell_type": "code",
   "execution_count": 29,
   "id": "6f8ef710",
   "metadata": {},
   "outputs": [],
   "source": [
    "from sklearn.metrics import confusion_matrix,accuracy_score,classification_report\n",
    "\n",
    "def evalute(model,X_train,X_test,Y_train,Y_test):\n",
    "    y_test_pred = model.predict(X_test)\n",
    "    y_train_pred = model.predict(X_train)\n",
    "    \n",
    "    print(\"TRAINING RESULTS:\\n=======================================\")\n",
    "    clf_report = pd.DataFrame(classification_report(Y_train,y_train_pred,output_dict=True))\n",
    "    print(f\"CONFUSION MATRIX:\\n{confusion_matrix(Y_train,y_train_pred)}\")\n",
    "    print(f\"ACCURACY SCORE:\\n{accuracy_score(Y_train,y_train_pred):.4f}\")\n",
    "    print(f\"CLASSIFICATION REPORT:\\n{clf_report}\")\n",
    "    \n",
    "    print(\"TESTING RESULTS :n==================================================\")\n",
    "    clf_report = pd.DataFrame(classification_report(Y_test,y_test_pred,output_dict=True))\n",
    "    print(f\"CONFUSION MATRIX:\\n{confusion_matrix(Y_test,y_test_pred)}\")\n",
    "    print(f\"ACCURACY SCORE :\\n{accuracy_score(Y_test,y_test_pred):.4f}\")\n",
    "    print(f\"CLASSIFICATION REPORT:\\n{clf_report}\")"
   ]
  },
  {
   "cell_type": "code",
   "execution_count": 30,
   "id": "523231e3",
   "metadata": {},
   "outputs": [
    {
     "name": "stdout",
     "output_type": "stream",
     "text": [
      "TRAINING RESULTS:\n",
      "=======================================\n",
      "CONFUSION MATRIX:\n",
      "[[349   0]\n",
      " [  0 188]]\n",
      "ACCURACY SCORE:\n",
      "1.0000\n",
      "CLASSIFICATION REPORT:\n",
      "               0      1  accuracy  macro avg  weighted avg\n",
      "precision   1.00   1.00      1.00       1.00          1.00\n",
      "recall      1.00   1.00      1.00       1.00          1.00\n",
      "f1-score    1.00   1.00      1.00       1.00          1.00\n",
      "support   349.00 188.00      1.00     537.00        537.00\n",
      "TESTING RESULTS :n==================================================\n",
      "CONFUSION MATRIX:\n",
      "[[119  32]\n",
      " [ 24  56]]\n",
      "ACCURACY SCORE :\n",
      "0.7576\n",
      "CLASSIFICATION REPORT:\n",
      "               0     1  accuracy  macro avg  weighted avg\n",
      "precision   0.83  0.64      0.76       0.73          0.76\n",
      "recall      0.79  0.70      0.76       0.74          0.76\n",
      "f1-score    0.81  0.67      0.76       0.74          0.76\n",
      "support   151.00 80.00      0.76     231.00        231.00\n"
     ]
    }
   ],
   "source": [
    "from sklearn.ensemble import BaggingClassifier\n",
    "from sklearn.tree import DecisionTreeClassifier\n",
    "\n",
    "tree = DecisionTreeClassifier()\n",
    "bagging_clf = BaggingClassifier(base_estimator=tree,n_estimators=1500,random_state=42)\n",
    "bagging_clf.fit(X_train,Y_train)\n",
    "\n",
    "evalute(bagging_clf,X_train,X_test,Y_train,Y_test)"
   ]
  },
  {
   "cell_type": "code",
   "execution_count": 32,
   "id": "deae9047",
   "metadata": {},
   "outputs": [
    {
     "name": "stdout",
     "output_type": "stream",
     "text": [
      "TRAINING RESULTS:\n",
      "=======================================\n",
      "CONFUSION MATRIX:\n",
      "[[349   0]\n",
      " [  0 188]]\n",
      "ACCURACY SCORE:\n",
      "1.0000\n",
      "CLASSIFICATION REPORT:\n",
      "               0      1  accuracy  macro avg  weighted avg\n",
      "precision   1.00   1.00      1.00       1.00          1.00\n",
      "recall      1.00   1.00      1.00       1.00          1.00\n",
      "f1-score    1.00   1.00      1.00       1.00          1.00\n",
      "support   349.00 188.00      1.00     537.00        537.00\n",
      "TESTING RESULTS :n==================================================\n",
      "CONFUSION MATRIX:\n",
      "[[123  28]\n",
      " [ 29  51]]\n",
      "ACCURACY SCORE :\n",
      "0.7532\n",
      "CLASSIFICATION REPORT:\n",
      "               0     1  accuracy  macro avg  weighted avg\n",
      "precision   0.81  0.65      0.75       0.73          0.75\n",
      "recall      0.81  0.64      0.75       0.73          0.75\n",
      "f1-score    0.81  0.64      0.75       0.73          0.75\n",
      "support   151.00 80.00      0.75     231.00        231.00\n"
     ]
    }
   ],
   "source": [
    "from sklearn.ensemble import RandomForestClassifier\n",
    "\n",
    "rf_clf =RandomForestClassifier(random_state=42,n_estimators=1000)\n",
    "rf_clf.fit(X_train,Y_train)\n",
    "evalute(rf_clf,X_train,X_test,Y_train,Y_test)"
   ]
  },
  {
   "cell_type": "code",
   "execution_count": 33,
   "id": "49283da4",
   "metadata": {},
   "outputs": [
    {
     "name": "stdout",
     "output_type": "stream",
     "text": [
      "TRAINING RESULTS:\n",
      "=======================================\n",
      "CONFUSION MATRIX:\n",
      "[[349   0]\n",
      " [  0 188]]\n",
      "ACCURACY SCORE:\n",
      "1.0000\n",
      "CLASSIFICATION REPORT:\n",
      "               0      1  accuracy  macro avg  weighted avg\n",
      "precision   1.00   1.00      1.00       1.00          1.00\n",
      "recall      1.00   1.00      1.00       1.00          1.00\n",
      "f1-score    1.00   1.00      1.00       1.00          1.00\n",
      "support   349.00 188.00      1.00     537.00        537.00\n",
      "TESTING RESULTS :n==================================================\n",
      "CONFUSION MATRIX:\n",
      "[[124  27]\n",
      " [ 25  55]]\n",
      "ACCURACY SCORE :\n",
      "0.7749\n",
      "CLASSIFICATION REPORT:\n",
      "               0     1  accuracy  macro avg  weighted avg\n",
      "precision   0.83  0.67      0.77       0.75          0.78\n",
      "recall      0.82  0.69      0.77       0.75          0.77\n",
      "f1-score    0.83  0.68      0.77       0.75          0.78\n",
      "support   151.00 80.00      0.77     231.00        231.00\n"
     ]
    }
   ],
   "source": [
    "from sklearn.ensemble import ExtraTreesClassifier\n",
    "\n",
    "ex_tree_clf = ExtraTreesClassifier(n_estimators=1000,max_features=7,random_state=42)\n",
    "ex_tree_clf.fit(X_train,Y_train)\n",
    "evalute(ex_tree_clf,X_train,X_test,Y_train,Y_test)"
   ]
  },
  {
   "cell_type": "code",
   "execution_count": 36,
   "id": "1dd3d660",
   "metadata": {},
   "outputs": [],
   "source": [
    "scores = {\n",
    "    'Bagging Classifier': {\n",
    "        'Train': accuracy_score(Y_train, bagging_clf.predict(X_train)),\n",
    "        'Test': accuracy_score(Y_test, bagging_clf.predict(X_test)),\n",
    "    },\n",
    "}"
   ]
  },
  {
   "cell_type": "code",
   "execution_count": 37,
   "id": "ec55b2ab",
   "metadata": {},
   "outputs": [],
   "source": [
    "scores['Random Forest'] = {\n",
    "        'Train': accuracy_score(Y_train, rf_clf.predict(X_train)),\n",
    "        'Test': accuracy_score(Y_test, rf_clf.predict(X_test)),\n",
    "    }"
   ]
  },
  {
   "cell_type": "code",
   "execution_count": 38,
   "id": "8249f733",
   "metadata": {},
   "outputs": [],
   "source": [
    "scores['Extra Tree'] = {\n",
    "        'Train': accuracy_score(Y_train, ex_tree_clf.predict(X_train)),\n",
    "        'Test': accuracy_score(Y_test, ex_tree_clf.predict(X_test)),\n",
    "    }"
   ]
  },
  {
   "cell_type": "code",
   "execution_count": 39,
   "id": "c971741b",
   "metadata": {},
   "outputs": [
    {
     "name": "stdout",
     "output_type": "stream",
     "text": [
      "TRAINING RESULTS:\n",
      "=======================================\n",
      "CONFUSION MATRIX:\n",
      "[[310  39]\n",
      " [ 51 137]]\n",
      "ACCURACY SCORE:\n",
      "0.8324\n",
      "CLASSIFICATION REPORT:\n",
      "               0      1  accuracy  macro avg  weighted avg\n",
      "precision   0.86   0.78      0.83       0.82          0.83\n",
      "recall      0.89   0.73      0.83       0.81          0.83\n",
      "f1-score    0.87   0.75      0.83       0.81          0.83\n",
      "support   349.00 188.00      0.83     537.00        537.00\n",
      "TESTING RESULTS :n==================================================\n",
      "CONFUSION MATRIX:\n",
      "[[123  28]\n",
      " [ 27  53]]\n",
      "ACCURACY SCORE :\n",
      "0.7619\n",
      "CLASSIFICATION REPORT:\n",
      "               0     1  accuracy  macro avg  weighted avg\n",
      "precision   0.82  0.65      0.76       0.74          0.76\n",
      "recall      0.81  0.66      0.76       0.74          0.76\n",
      "f1-score    0.82  0.66      0.76       0.74          0.76\n",
      "support   151.00 80.00      0.76     231.00        231.00\n"
     ]
    }
   ],
   "source": [
    "from sklearn.ensemble import AdaBoostClassifier\n",
    "\n",
    "ada_boost_clf = AdaBoostClassifier(n_estimators=30)\n",
    "ada_boost_clf.fit(X_train,Y_train)\n",
    "evalute(ada_boost_clf,X_train,X_test,Y_train,Y_test)"
   ]
  },
  {
   "cell_type": "code",
   "execution_count": 40,
   "id": "71f027db",
   "metadata": {},
   "outputs": [],
   "source": [
    "scores['AdaBoost'] = {\n",
    "        'Train': accuracy_score(Y_train, ada_boost_clf.predict(X_train)),\n",
    "        'Test': accuracy_score(Y_test, ada_boost_clf.predict(X_test)),\n",
    "    }"
   ]
  },
  {
   "cell_type": "code",
   "execution_count": 42,
   "id": "f37399b1",
   "metadata": {},
   "outputs": [
    {
     "name": "stdout",
     "output_type": "stream",
     "text": [
      "TRAINING RESULTS:\n",
      "=======================================\n",
      "CONFUSION MATRIX:\n",
      "[[342   7]\n",
      " [ 19 169]]\n",
      "ACCURACY SCORE:\n",
      "0.9516\n",
      "CLASSIFICATION REPORT:\n",
      "               0      1  accuracy  macro avg  weighted avg\n",
      "precision   0.95   0.96      0.95       0.95          0.95\n",
      "recall      0.98   0.90      0.95       0.94          0.95\n",
      "f1-score    0.96   0.93      0.95       0.95          0.95\n",
      "support   349.00 188.00      0.95     537.00        537.00\n",
      "TESTING RESULTS :n==================================================\n",
      "CONFUSION MATRIX:\n",
      "[[116  35]\n",
      " [ 26  54]]\n",
      "ACCURACY SCORE :\n",
      "0.7359\n",
      "CLASSIFICATION REPORT:\n",
      "               0     1  accuracy  macro avg  weighted avg\n",
      "precision   0.82  0.61      0.74       0.71          0.74\n",
      "recall      0.77  0.68      0.74       0.72          0.74\n",
      "f1-score    0.79  0.64      0.74       0.72          0.74\n",
      "support   151.00 80.00      0.74     231.00        231.00\n"
     ]
    }
   ],
   "source": [
    "from sklearn.ensemble import GradientBoostingClassifier\n",
    "\n",
    "grad_boost_clf=GradientBoostingClassifier(n_estimators=100,random_state=42)\n",
    "grad_boost_clf.fit(X_train,Y_train)\n",
    "evalute(grad_boost_clf,X_train,X_test,Y_train,Y_test)"
   ]
  },
  {
   "cell_type": "code",
   "execution_count": 43,
   "id": "9226c1ee",
   "metadata": {},
   "outputs": [],
   "source": [
    "scores['Gradient Boosting'] = {\n",
    "        'Train': accuracy_score(Y_train, grad_boost_clf.predict(X_train)),\n",
    "        'Test': accuracy_score(Y_test, grad_boost_clf.predict(X_test)),\n",
    "    }"
   ]
  },
  {
   "cell_type": "code",
   "execution_count": 46,
   "id": "c7b43ae2",
   "metadata": {},
   "outputs": [
    {
     "name": "stdout",
     "output_type": "stream",
     "text": [
      "TRAINING RESULTS:\n",
      "=======================================\n",
      "CONFUSION MATRIX:\n",
      "[[327  22]\n",
      " [ 82 106]]\n",
      "ACCURACY SCORE:\n",
      "0.8063\n",
      "CLASSIFICATION REPORT:\n",
      "               0      1  accuracy  macro avg  weighted avg\n",
      "precision   0.80   0.83      0.81       0.81          0.81\n",
      "recall      0.94   0.56      0.81       0.75          0.81\n",
      "f1-score    0.86   0.67      0.81       0.77          0.80\n",
      "support   349.00 188.00      0.81     537.00        537.00\n",
      "TESTING RESULTS :n==================================================\n",
      "CONFUSION MATRIX:\n",
      "[[131  20]\n",
      " [ 36  44]]\n",
      "ACCURACY SCORE :\n",
      "0.7576\n",
      "CLASSIFICATION REPORT:\n",
      "               0     1  accuracy  macro avg  weighted avg\n",
      "precision   0.78  0.69      0.76       0.74          0.75\n",
      "recall      0.87  0.55      0.76       0.71          0.76\n",
      "f1-score    0.82  0.61      0.76       0.72          0.75\n",
      "support   151.00 80.00      0.76     231.00        231.00\n"
     ]
    }
   ],
   "source": [
    "from sklearn.ensemble import VotingClassifier\n",
    "from sklearn.linear_model import LogisticRegression\n",
    "from sklearn.svm import SVC\n",
    "\n",
    "estimators = []\n",
    "log_reg = LogisticRegression(solver='liblinear')\n",
    "estimators.append(('Logistic', log_reg))\n",
    "\n",
    "tree = DecisionTreeClassifier()\n",
    "estimators.append(('Tree', tree))\n",
    "\n",
    "svm_clf = SVC(gamma='scale')\n",
    "estimators.append(('SVM', svm_clf))\n",
    "\n",
    "voting = VotingClassifier(estimators=estimators)\n",
    "voting.fit(X_train, Y_train)\n",
    "\n",
    "evalute(voting, X_train, X_test, Y_train, Y_test)"
   ]
  },
  {
   "cell_type": "code",
   "execution_count": 47,
   "id": "135ddaa1",
   "metadata": {},
   "outputs": [],
   "source": [
    "scores['Voting'] = {\n",
    "        'Train': accuracy_score(Y_train, voting.predict(X_train)),\n",
    "        'Test': accuracy_score(Y_test, voting.predict(X_test)),\n",
    "    }"
   ]
  },
  {
   "cell_type": "code",
   "execution_count": 48,
   "id": "0c333377",
   "metadata": {},
   "outputs": [
    {
     "data": {
      "text/plain": [
       "<AxesSubplot:>"
      ]
     },
     "execution_count": 48,
     "metadata": {},
     "output_type": "execute_result"
    },
    {
     "data": {
      "image/png": "[encoded data removed]",
      "text/plain": [
       "<Figure size 1080x576 with 1 Axes>"
      ]
     },
     "metadata": {
      "needs_background": "light"
     },
     "output_type": "display_data"
    }
   ],
   "source": [
    "scores_df = pd.DataFrame(scores)\n",
    "\n",
    "scores_df.plot(kind='barh', figsize=(15, 8))"
   ]
  },
  {
   "cell_type": "code",
   "execution_count": null,
   "id": "4fab62e6",
   "metadata": {},
   "outputs": [],
   "source": []
  }
 ],
 "metadata": {
  "kernelspec": {
   "display_name": "Python 3 (ipykernel)",
   "language": "python",
   "name": "python3"
  },
  "language_info": {
   "codemirror_mode": {
    "name": "ipython",
    "version": 3
   },
   "file_extension": ".py",
   "mimetype": "text/x-python",
   "name": "python",
   "nbconvert_exporter": "python",
   "pygments_lexer": "ipython3",
   "version": "3.9.12"
  }
 },
 "nbformat": 4,
 "nbformat_minor": 5
}
